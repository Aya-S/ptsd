{
 "cells": [
  {
   "cell_type": "code",
   "execution_count": 87,
   "metadata": {},
   "outputs": [],
   "source": [
    "import glob\n",
    "import sys\n",
    "import numpy as np\n",
    "import nltk\n",
    "from nltk.tokenize import sent_tokenize, word_tokenize\n",
    "from sklearn.linear_model import LogisticRegression as LR\n",
    "from sklearn.feature_extraction.text import CountVectorizer\n",
    "from sklearn.feature_extraction import DictVectorizer\n",
    "from sklearn.feature_extraction.text import TfidfTransformer\n",
    "from sklearn.metrics import *\n",
    "from sklearn.model_selection import KFold\n",
    "from sklearn.pipeline import Pipeline\n",
    "from sklearn.pipeline import FeatureUnion\n",
    "from sklearn.base import BaseEstimator, TransformerMixin"
   ]
  },
  {
   "cell_type": "code",
   "execution_count": 100,
   "metadata": {},
   "outputs": [
    {
     "name": "stdout",
     "output_type": "stream",
     "text": [
      "[nltk_data] Downloading package averaged_perceptron_tagger to\n",
      "[nltk_data]     /Users/shikha/nltk_data...\n",
      "[nltk_data]   Unzipping taggers/averaged_perceptron_tagger.zip.\n"
     ]
    },
    {
     "data": {
      "text/plain": [
       "True"
      ]
     },
     "execution_count": 100,
     "metadata": {},
     "output_type": "execute_result"
    }
   ],
   "source": [
    "# nltk.download('punkt')\n",
    "# nltk.download('wordnet')\n",
    "# nltk.download('averaged_perceptron_tagger')"
   ]
  },
  {
   "cell_type": "code",
   "execution_count": 90,
   "metadata": {},
   "outputs": [
    {
     "name": "stdout",
     "output_type": "stream",
     "text": [
      "Total Clients processed:  3\n"
     ]
    }
   ],
   "source": [
    "path = '/Users/shikha/Documents/projects/omdena/dataset/example/*'\n",
    "files = glob.glob(path)\n",
    "data = {}\n",
    "# label 0 means no ptsd\n",
    "data[0] = []\n",
    "# label 1 means ptsd\n",
    "data[1] = []\n",
    "count = 0\n",
    "separator = \"\"\n",
    "for name in files: # 'file' is a builtin type, 'name' is a less-ambiguous variable name.\n",
    "    try:\n",
    "        with open(name) as f:\n",
    "            content = f.readlines()\n",
    "            content = separator.join(content)\n",
    "            count += 1\n",
    "            if count % 2 == 0:\n",
    "                data[0].append(content)\n",
    "            else:\n",
    "                data[1].append(content)\n",
    "    except IOError as exc:\n",
    "        print \"IO Error\"\n",
    "\n",
    "print \"Total Clients processed: \", count"
   ]
  },
  {
   "cell_type": "code",
   "execution_count": 91,
   "metadata": {},
   "outputs": [
    {
     "name": "stdout",
     "output_type": "stream",
     "text": [
      "Count of no ptsd clients:  1\n",
      "Count of ptsd clients:  2\n"
     ]
    }
   ],
   "source": [
    "print \"Count of no ptsd clients: \", len(data[0])\n",
    "print \"Count of ptsd clients: \", len(data[1])"
   ]
  },
  {
   "cell_type": "code",
   "execution_count": null,
   "metadata": {},
   "outputs": [],
   "source": [
    "def load_dataset(filename=\"\"):\n",
    "    X = []\n",
    "    Y = []\n",
    "    for label, transcripts in data.items():\n",
    "        X += [val for val in transcripts]\n",
    "        Y += [label] * len(transcripts)\n",
    "    X = np.array(X)\n",
    "    Y = np.array(Y)\n",
    "    \n",
    "    return X, Y"
   ]
  },
  {
   "cell_type": "code",
   "execution_count": 97,
   "metadata": {},
   "outputs": [],
   "source": [
    "def tokenize(doc, decode=True):\n",
    "#     sent_tokenizer = nltk.sent_tokenize()\n",
    "#     word_tokenizer = nltk.word_tokenize()\n",
    "    if decode:\n",
    "        return word_tokenize(doc.decode('utf-8'))\n",
    "    else:\n",
    "        return word_tokenize(doc)\n",
    "\n",
    "class LemmaTokenizer(object):\n",
    "    def __init__(self):\n",
    "        self.wnl = nltk.stem.WordNetLemmatizer()\n",
    "        \n",
    "    def __call__(self, doc):\n",
    "        return [self.wnl.lemmatize(t) for t in tokenize(doc, decode=False)]\n",
    "\n",
    "class WordFeature(BaseEstimator, TransformerMixin):\n",
    "    \"\"\"Extract features from each document for DictVectorizer\"\"\"\n",
    "\n",
    "    def fit(self, x, y=None):\n",
    "        return self\n",
    "\n",
    "    def transform(self, posts):\n",
    "        res = []\n",
    "        for sentence in posts:\n",
    "            feats = {}\n",
    "            words = tokenize(sentence)\n",
    "            countExclamation = 0\n",
    "            i = 0\n",
    "            length = len(words)\n",
    "            while i < length:\n",
    "                w = words[i]\n",
    "#                 countExclamation += word.count('!')\n",
    "                i += 1\n",
    "            for j, word in enumerate(words):\n",
    "                countExclamation += word.count('!')\n",
    "\n",
    "            feats['length'] = len(sentence)\n",
    "            feats['exclamation'] = countExclamation\n",
    "            res.append(feats)\n",
    "        return res\n",
    "\n",
    "class PosTags(BaseEstimator, TransformerMixin):\n",
    "    \"\"\"Extract features from each document for DictVectorizer\"\"\"\n",
    "\n",
    "    def fit(self, x, y=None):\n",
    "        return self\n",
    "\n",
    "    def transform(self, posts):\n",
    "        res = []\n",
    "        for sentence in posts:\n",
    "            words = tokenize(sentence)\n",
    "            tags = nltk.pos_tag(words)\n",
    "            feats = {}\n",
    "            countE = 0\n",
    "            for w,t in tags:\n",
    "                feats[w] = t\n",
    "                # countE += w.count('!')\n",
    "            # feats['length'] = len(sentence)\n",
    "            # feats['exclamation'] = countE\n",
    "            res.append(feats)\n",
    "        # print \"--------------------------------------------------\"\n",
    "        # print res[0]\n",
    "        return res"
   ]
  },
  {
   "cell_type": "code",
   "execution_count": 98,
   "metadata": {},
   "outputs": [],
   "source": [
    "def init():\n",
    "    clf = Pipeline([\n",
    "\n",
    "        ('union', FeatureUnion(\n",
    "            transformer_list=[\n",
    "                ('vectorizer', CountVectorizer(ngram_range=(1, 2), tokenizer=LemmaTokenizer())),\n",
    "                # ('vectorizer', Pipeline([\n",
    "                #     ('count', CountVectorizer(ngram_range=(1, 2))),\n",
    "                #     ('tfidf', TfidfTransformer())\n",
    "                # ])),\n",
    "        \n",
    "                ('body_pos', Pipeline([\n",
    "                    ('pos', PosTags()),  # returns a list of dicts\n",
    "                    ('vect', DictVectorizer())  # list of dicts -> feature matrix\n",
    "                ])),\n",
    "                ('body_stats', Pipeline([\n",
    "                    ('word_stats', WordFeature()),\n",
    "                    ('vect', DictVectorizer())  # list of dicts -> feature matrix\n",
    "                ]))\n",
    "            ],\n",
    "            # weight components in FeatureUnion\n",
    "            transformer_weights={\n",
    "                'vectorizer': 1.0,\n",
    "                'body_stats': 1.0,\n",
    "            },\n",
    "        )),\n",
    "\n",
    "        ('classifier', LR())\n",
    "    ])\n",
    "    return clf\n",
    "\n",
    "def train(clf, X_train, Y_train):\n",
    "    clf.fit(X_train, Y_train)\n",
    "\n",
    "def predict(clf, X_test, Y_test):\n",
    "    y_pred = clf.predict(X_test)\n",
    "    return y_pred\n",
    "\n",
    "def train_cv(clf, X, Y):\n",
    "    k_fold = KFold(n_splits=5, shuffle=True, random_state=3)\n",
    "    split = k_fold.split(X)\n",
    "    scores = []\n",
    "    confusion = np.array([[0, 0], [0, 0]])\n",
    "    for train_indices, test_indices in split:\n",
    "        X_train = X[train_indices]\n",
    "        Y_train = Y[train_indices]\n",
    "\n",
    "        X_val = X[test_indices]\n",
    "        Y_val = Y[test_indices]\n",
    "\n",
    "        train(clf, X_train, Y_train)\n",
    "        predictions = predict(clf, X_val, Y_val)\n",
    "\n",
    "        confusion += confusion_matrix(Y_val, predictions)\n",
    "        score = f1_score(Y_val, predictions)\n",
    "        scores.append(score)\n",
    "    return confusion, scores\n"
   ]
  },
  {
   "cell_type": "code",
   "execution_count": 102,
   "metadata": {},
   "outputs": [
    {
     "name": "stdout",
     "output_type": "stream",
     "text": [
      "tokenize\n",
      "tokenize\n",
      "tokenize\n",
      "tokenize\n",
      "tokenize\n",
      "tokenize\n",
      "tokenize\n",
      "tokenize\n",
      "tokenize\n",
      "tokenize\n",
      "tokenize\n",
      "tokenize\n",
      "tokenize\n",
      "tokenize\n",
      "tokenize\n",
      "tokenize\n",
      "tokenize\n",
      "tokenize\n",
      "[0 1 1]\n"
     ]
    }
   ],
   "source": [
    "X, Y = load_dataset()\n",
    "# train_len = int(0.8 * X.shape[0])\n",
    "# X_train = X[0:train_len]\n",
    "# Y_train = Y[0:train_len]\n",
    "# X_test = X[train_len:]\n",
    "# Y_test = Y[train_len:]\n",
    "\n",
    "clf = init()\n",
    "\n",
    "# confusion, scores = train_cv(clf, X_train, Y_train)\n",
    "# print \"Total tweets classified:\", X.shape[0]\n",
    "# print \"F1 Score:\", sum(scores)/len(scores)\n",
    "# print \"Confusion matrix:\"\n",
    "# print confusion\n",
    "\n",
    "# testing with example data; remove later\n",
    "train(clf, X, Y)\n",
    "y_pred = predict(clf, X, Y)\n",
    "print y_pred\n"
   ]
  },
  {
   "cell_type": "code",
   "execution_count": null,
   "metadata": {},
   "outputs": [],
   "source": []
  },
  {
   "cell_type": "code",
   "execution_count": null,
   "metadata": {},
   "outputs": [],
   "source": []
  }
 ],
 "metadata": {
  "kernelspec": {
   "display_name": "Python 2",
   "language": "python",
   "name": "python2"
  },
  "language_info": {
   "codemirror_mode": {
    "name": "ipython",
    "version": 2
   },
   "file_extension": ".py",
   "mimetype": "text/x-python",
   "name": "python",
   "nbconvert_exporter": "python",
   "pygments_lexer": "ipython2",
   "version": "2.7.15"
  }
 },
 "nbformat": 4,
 "nbformat_minor": 2
}
